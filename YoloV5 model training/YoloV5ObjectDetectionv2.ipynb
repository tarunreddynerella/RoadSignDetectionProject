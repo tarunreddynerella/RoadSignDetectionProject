{
 "cells": [
  {
   "cell_type": "code",
   "execution_count": 1,
   "metadata": {},
   "outputs": [
    {
     "name": "stdout",
     "output_type": "stream",
     "text": [
      "Using Local Machine\n",
      "Cloning into 'yolov5'...\n",
      "remote: Enumerating objects: 15615, done.\u001b[K\n",
      "remote: Counting objects: 100% (222/222), done.\u001b[K\n",
      "remote: Compressing objects: 100% (163/163), done.\u001b[K\n",
      "remote: Total 15615 (delta 103), reused 125 (delta 59), pack-reused 15393\u001b[K\n",
      "Receiving objects: 100% (15615/15615), 14.60 MiB | 9.26 MiB/s, done.\n",
      "Resolving deltas: 100% (10632/10632), done.\n",
      "zsh:1: command not found: pip\n",
      "zsh:1: command not found: pip\n"
     ]
    }
   ],
   "source": [
    "try:\n",
    "    from google.colab import drive\n",
    "    drive.mount('/content/drive')\n",
    "    import zipfile\n",
    "    with zipfile.ZipFile('/content/drive/MyDrive/DL Project/YoloV5DataSet.zip', 'r') as zip_ref:\n",
    "        zip_ref.extractall('./')\n",
    "except:\n",
    "    print(\"Using Local Machine\")\n",
    "!git clone https://github.com/ultralytics/yolov5.git\n",
    "!pip install -r yolov5/requirements.txt\n",
    "!pip install wandb\n"
   ]
  },
  {
   "cell_type": "code",
   "execution_count": null,
   "metadata": {},
   "outputs": [],
   "source": [
    "import torch\n",
    "import torch.nn as nn\n",
    "import torch.optim as optim\n",
    "from torch.utils.data import DataLoader\n",
    "from yolov5.models.yolo import Model\n",
    "from yolov5.utils.dataloaders import LoadImagesAndLabels\n",
    "from yolov5.utils.general import check_requirements, set_logging\n",
    "from yolov5.utils.loss import ComputeLoss\n",
    "from yolov5.utils.plots import plot_labels, plot_results\n",
    "from pathlib import Path\n",
    "import yaml\n",
    "\n",
    "import os\n",
    "import random\n",
    "from pathlib import Path\n",
    "import pandas as pd\n",
    "import cv2\n"
   ]
  },
  {
   "cell_type": "code",
   "execution_count": null,
   "metadata": {},
   "outputs": [],
   "source": [
    "!python train.py --img 640 --batch 64 --epochs 100 --data signboard.yaml --cfg yolov5/models/yolov5m.yaml --name traffic_yolov5"
   ]
  }
 ],
 "metadata": {
  "kernelspec": {
   "display_name": "base",
   "language": "python",
   "name": "python3"
  },
  "language_info": {
   "codemirror_mode": {
    "name": "ipython",
    "version": 3
   },
   "file_extension": ".py",
   "mimetype": "text/x-python",
   "name": "python",
   "nbconvert_exporter": "python",
   "pygments_lexer": "ipython3",
   "version": "3.8.16"
  },
  "orig_nbformat": 4
 },
 "nbformat": 4,
 "nbformat_minor": 2
}
