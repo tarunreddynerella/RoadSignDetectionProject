{
 "cells": [
  {
   "cell_type": "code",
   "execution_count": null,
   "metadata": {},
   "outputs": [],
   "source": [
    "!git clone https://github.com/AlexeyAB/darknet.git\n",
    "!cd darknet\n",
    "!make\n",
    "!cd .."
   ]
  },
  {
   "cell_type": "code",
   "execution_count": null,
   "metadata": {},
   "outputs": [],
   "source": [
    "!wget https://pjreddie.com/media/files/yolov5.weights"
   ]
  },
  {
   "cell_type": "code",
   "execution_count": null,
   "metadata": {},
   "outputs": [],
   "source": [
    "import cv2\n",
    "import numpy as np\n",
    "import pandas as pd\n",
    "from sklearn.model_selection import train_test_split"
   ]
  },
  {
   "cell_type": "code",
   "execution_count": null,
   "metadata": {},
   "outputs": [],
   "source": [
    "# Load YOLOv3 model and weights\n",
    "def LoadYoloModel():\n",
    "    net = cv2.dnn.readNet(\"darknet/yolov5.weights\", \"darknet/cfg/yolov5.cfg\")\n",
    "    with open(\"darknet/data/coco.names\", \"r\") as f:\n",
    "        classes = [line.strip() for line in f.readlines()]\n",
    "    return net, classes"
   ]
  },
  {
   "cell_type": "code",
   "execution_count": null,
   "metadata": {},
   "outputs": [],
   "source": [
    "# Preprocess image for YOLO\n",
    "def PreProcessImage(imagePath):\n",
    "    image = cv2.imread(imagePath)\n",
    "    height, width, _ = image.shape\n",
    "    blob = cv2.dnn.blobFromImage(image, 1/255.0, (416, 416), (0, 0, 0), True, crop=False)\n",
    "    return image, height, width, blob"
   ]
  },
  {
   "cell_type": "code",
   "execution_count": null,
   "metadata": {},
   "outputs": [],
   "source": [
    "# Perform object detection\n",
    "def DetectObjects(net, blob, image):\n",
    "    layerNames = net.getLayerNames()\n",
    "    outputLayers = [layerNames[i[0] - 1] for i in net.getUnconnectedOutLayers()]\n",
    "    net.setInput(blob)\n",
    "    layerOutputs = net.forward(outputLayers)\n",
    "    return layerOutputs"
   ]
  },
  {
   "cell_type": "code",
   "execution_count": null,
   "metadata": {},
   "outputs": [],
   "source": [
    "# Get detection results\n",
    "def GetDetectionResults(height, width, layerOutputs, classes, confThreshold=0.5, nmsThreshold=0.4):\n",
    "    class_ids = []\n",
    "    confidences = []\n",
    "    boxes = []\n",
    "\n",
    "    for output in layerOutputs:\n",
    "        for detection in output:\n",
    "            scores = detection[5:]\n",
    "            class_id = np.argmax(scores)\n",
    "            confidence = scores[class_id]\n",
    "\n",
    "            if confidence > confThreshold:\n",
    "                center_x, center_y, w, h = (detection[0:4] * np.array([width, height, width, height])).astype('int')\n",
    "                x = int(center_x - w / 2)\n",
    "                y = int(center_y - h / 2)\n",
    "                boxes.append([x, y, w, h])\n",
    "                confidences.append(float(confidence))\n",
    "                class_ids.append(class_id)\n",
    "\n",
    "    indices = cv2.dnn.NMSBoxes(boxes, confidences, confThreshold, nmsThreshold)\n",
    "\n",
    "    return boxes, confidences, class_ids, indices\n"
   ]
  },
  {
   "cell_type": "code",
   "execution_count": null,
   "metadata": {},
   "outputs": [],
   "source": [
    "# Draw detected objects on the image\n",
    "def DrawDetectedObjects(image, classes, boxes, confidences, class_ids, indices):\n",
    "    colors = np.random.uniform(0, 255, size=(len(classes), 3))\n",
    "\n",
    "    for i in indices:\n",
    "        i = i[0]\n",
    "        box = boxes[i]\n",
    "        x, y, w, h = box[0], box[1], box[2], box[3]\n",
    "        label = str(classes[class_ids[i]])\n",
    "        confidence = confidences[i]\n",
    "        color = colors[class_ids[i]]\n",
    "        cv2.rectangle(image, (x, y), (x + w, y + h), color, 2)\n",
    "        cv2.putText(image, f\"{label} {confidence:.2f}\", (x, y - 5), cv2.FONT_HERSHEY_SIMPLEX, 0.5, color, 2)\n",
    "        return image"
   ]
  },
  {
   "cell_type": "code",
   "execution_count": null,
   "metadata": {},
   "outputs": [],
   "source": [
    "def main(image_path, output_path):\n",
    "    net, classes = LoadYoloModel()\n",
    "    image, height, width, blob = PreProcessImage(image_path)\n",
    "    layer_outputs = DetectObjects(net, blob, image)\n",
    "    boxes, confidences, class_ids, indices = GetDetectionResults(height, width, layer_outputs, classes)\n",
    "    detected_image = DrawDetectedObjects(image, classes, boxes, confidences, class_ids, indices)\n",
    "    cv2.imwrite(output_path, detected_image)\n"
   ]
  },
  {
   "cell_type": "code",
   "execution_count": null,
   "metadata": {},
   "outputs": [],
   "source": [
    "def LoadDataSet(dataSetFolderPath: str) -> tuple:\n",
    "    annotationsFilePath = dataSetFolderPath+\"/annotations.csv\"\n",
    "    annotationsDataFrame = pd.read_csv(annotationsFilePath, sep=\",\")\n",
    "    annotations = []\n",
    "    for index, row in annotationsDataFrame[1:].iterrows():\n",
    "        annotations.append(\n",
    "            dataSetFolderPath+\"/\"+row[0])\n",
    "\n",
    "    del annotationsDataFrame\n",
    "    X_train, X_val, y_train, y_val = train_test_split(\n",
    "        annotations, annotations, test_size=0.2, random_state=42)\n",
    "    return  X_train, X_val, y_train, y_val"
   ]
  },
  {
   "cell_type": "code",
   "execution_count": null,
   "metadata": {},
   "outputs": [],
   "source": [
    "X_train, X_val, y_train, y_val = LoadDataSet(\"./DataSet1\")\n",
    "for path in X_val:\n",
    "    main(path, path.split(\"/\")[-1])"
   ]
  }
 ],
 "metadata": {
  "language_info": {
   "name": "python"
  },
  "orig_nbformat": 4
 },
 "nbformat": 4,
 "nbformat_minor": 2
}
